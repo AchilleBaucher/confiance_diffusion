{
 "cells": [
  {
   "cell_type": "markdown",
   "metadata": {},
   "source": [
    "# Les lettres\n",
    "Éude de ce qu'on peut utiliser comme NLP sur les lettres"
   ]
  },
  {
   "cell_type": "code",
   "execution_count": 2,
   "metadata": {},
   "outputs": [],
   "source": [
    "#import\n",
    "import pandas as pd\n",
    "import datetime as dt\n",
    "import matplotlib.pyplot as plt\n",
    "from collections import Counter"
   ]
  },
  {
   "cell_type": "code",
   "execution_count": 5,
   "metadata": {},
   "outputs": [],
   "source": [
    "# Import data\n",
    "data_path = \"../data/\"\n",
    "df = pd.read_pickle(data_path+\"df_2017_avec_auteurs.pkl\")\n",
    "# Nom normalisé\n",
    "dfb = pd.read_pickle(data_path+\"questions_df_2017to2019_j.pkl\").sort_values(by='date_question') "
   ]
  },
  {
   "cell_type": "markdown",
   "metadata": {},
   "source": [
    "## 1. Lire des lettres\n",
    "### 1.1 Observer la structure"
   ]
  },
  {
   "cell_type": "code",
   "execution_count": 6,
   "metadata": {},
   "outputs": [],
   "source": [
    "# print(dfb.question[0])"
   ]
  },
  {
   "cell_type": "markdown",
   "metadata": {},
   "source": [
    "**Observations :** (*voir excel*)\n",
    "* Le sujet est toujours dans la première phrase\n",
    "* La demande est dans la dernière phrase\n",
    "* La demande est souvent bidon : retirer, qqs vous allez faire, améliorez ça, mais :\n",
    "* Demande parfois précise d'information\n",
    "* Mots régulièrment répétés, mais pas toujours\n",
    "* Connaître synonymes pour parvenir à identifier sujet"
   ]
  },
  {
   "cell_type": "markdown",
   "metadata": {},
   "source": [
    "### 1.2 Observer lorsqu'il y a un pic sur un même sujet"
   ]
  },
  {
   "cell_type": "code",
   "execution_count": 7,
   "metadata": {},
   "outputs": [],
   "source": [
    "# 80 kmh\n",
    "a, b = dfb[dfb.titre.str.contains('80 km')].groupby('date_question').apply(lambda x : (len(x['question']),[i for i in x['question']])).reset_index().loc[20]#apply({'question': lambda x : x.contains(\"passage\")})\n",
    "rien, lettres = b\n",
    "for i in lettres:\n",
    "    #print(i,'\\n')\n",
    "    pass"
   ]
  },
  {
   "cell_type": "code",
   "execution_count": 8,
   "metadata": {},
   "outputs": [],
   "source": [
    "# Disparition des abeilles\n",
    "for i in dfb[dfb.titre.str.contains('abeille')].reset_index()[7:12].question:\n",
    "#     print(i,'\\n')\n",
    "    pass"
   ]
  },
  {
   "cell_type": "code",
   "execution_count": 9,
   "metadata": {},
   "outputs": [
    {
     "data": {
      "text/html": [
       "<div>\n",
       "<style scoped>\n",
       "    .dataframe tbody tr th:only-of-type {\n",
       "        vertical-align: middle;\n",
       "    }\n",
       "\n",
       "    .dataframe tbody tr th {\n",
       "        vertical-align: top;\n",
       "    }\n",
       "\n",
       "    .dataframe thead th {\n",
       "        text-align: right;\n",
       "    }\n",
       "</style>\n",
       "<table border=\"1\" class=\"dataframe\">\n",
       "  <thead>\n",
       "    <tr style=\"text-align: right;\">\n",
       "      <th></th>\n",
       "      <th>index</th>\n",
       "      <th>date_question</th>\n",
       "      <th>date_reponse</th>\n",
       "      <th>groupe_auteur</th>\n",
       "      <th>ministere_adresse</th>\n",
       "      <th>question</th>\n",
       "      <th>rubrique</th>\n",
       "      <th>titre</th>\n",
       "      <th>uid</th>\n",
       "    </tr>\n",
       "  </thead>\n",
       "  <tbody>\n",
       "    <tr>\n",
       "      <th>0</th>\n",
       "      <td>21037</td>\n",
       "      <td>2017-11-07</td>\n",
       "      <td>2018-02-13</td>\n",
       "      <td>FI</td>\n",
       "      <td>Ministère de la transition écologique et solid...</td>\n",
       "      <td>M. Jean-Luc Mélenchon attire l'attention de M....</td>\n",
       "      <td>produits dangereux</td>\n",
       "      <td>Les dangers de la molécule sulfoxaflor pour le...</td>\n",
       "      <td>QANR5L15QE2708</td>\n",
       "    </tr>\n",
       "    <tr>\n",
       "      <th>1</th>\n",
       "      <td>16975</td>\n",
       "      <td>2017-12-05</td>\n",
       "      <td>2018-08-14</td>\n",
       "      <td>NI</td>\n",
       "      <td>Ministère de l'agriculture et de l'alimentation</td>\n",
       "      <td>Mme Emmanuelle Ménard attire l'attention de M....</td>\n",
       "      <td>agriculture</td>\n",
       "      <td>Biodiversité et sauvegarde des abeilles</td>\n",
       "      <td>QANR5L15QE3391</td>\n",
       "    </tr>\n",
       "    <tr>\n",
       "      <th>2</th>\n",
       "      <td>15271</td>\n",
       "      <td>2018-01-30</td>\n",
       "      <td>2018-08-14</td>\n",
       "      <td>LAREM</td>\n",
       "      <td>Ministère de l'agriculture et de l'alimentation</td>\n",
       "      <td>Mme Monica Michel attire l'attention de M. le ...</td>\n",
       "      <td>animaux</td>\n",
       "      <td>Déclin de la population des abeilles en France</td>\n",
       "      <td>QANR5L15QE4807</td>\n",
       "    </tr>\n",
       "    <tr>\n",
       "      <th>3</th>\n",
       "      <td>2940</td>\n",
       "      <td>2018-03-06</td>\n",
       "      <td>2018-03-27</td>\n",
       "      <td>NG</td>\n",
       "      <td>Ministère de l'agriculture et de l'alimentation</td>\n",
       "      <td>Mme Delphine Batho interroge M. le ministre de...</td>\n",
       "      <td>produits dangereux</td>\n",
       "      <td>Méthodes d'évaluation des impacts des pesticid...</td>\n",
       "      <td>QANR5L15QE6175</td>\n",
       "    </tr>\n",
       "    <tr>\n",
       "      <th>4</th>\n",
       "      <td>13488</td>\n",
       "      <td>2018-03-27</td>\n",
       "      <td>2018-08-14</td>\n",
       "      <td>NG</td>\n",
       "      <td>Ministère de la transition écologique et solid...</td>\n",
       "      <td>M. Alain David attire l'attention de M. le min...</td>\n",
       "      <td>agriculture</td>\n",
       "      <td>Lutte contre la disparition des abeilles</td>\n",
       "      <td>QANR5L15QE6710</td>\n",
       "    </tr>\n",
       "  </tbody>\n",
       "</table>\n",
       "</div>"
      ],
      "text/plain": [
       "   index date_question date_reponse groupe_auteur  \\\n",
       "0  21037    2017-11-07   2018-02-13            FI   \n",
       "1  16975    2017-12-05   2018-08-14            NI   \n",
       "2  15271    2018-01-30   2018-08-14         LAREM   \n",
       "3   2940    2018-03-06   2018-03-27            NG   \n",
       "4  13488    2018-03-27   2018-08-14            NG   \n",
       "\n",
       "                                   ministere_adresse  \\\n",
       "0  Ministère de la transition écologique et solid...   \n",
       "1    Ministère de l'agriculture et de l'alimentation   \n",
       "2    Ministère de l'agriculture et de l'alimentation   \n",
       "3    Ministère de l'agriculture et de l'alimentation   \n",
       "4  Ministère de la transition écologique et solid...   \n",
       "\n",
       "                                            question            rubrique  \\\n",
       "0  M. Jean-Luc Mélenchon attire l'attention de M....  produits dangereux   \n",
       "1  Mme Emmanuelle Ménard attire l'attention de M....         agriculture   \n",
       "2  Mme Monica Michel attire l'attention de M. le ...             animaux   \n",
       "3  Mme Delphine Batho interroge M. le ministre de...  produits dangereux   \n",
       "4  M. Alain David attire l'attention de M. le min...         agriculture   \n",
       "\n",
       "                                               titre             uid  \n",
       "0  Les dangers de la molécule sulfoxaflor pour le...  QANR5L15QE2708  \n",
       "1            Biodiversité et sauvegarde des abeilles  QANR5L15QE3391  \n",
       "2     Déclin de la population des abeilles en France  QANR5L15QE4807  \n",
       "3  Méthodes d'évaluation des impacts des pesticid...  QANR5L15QE6175  \n",
       "4           Lutte contre la disparition des abeilles  QANR5L15QE6710  "
      ]
     },
     "execution_count": 9,
     "metadata": {},
     "output_type": "execute_result"
    }
   ],
   "source": [
    "# Disparition des abeilles\n",
    "dfb[dfb.titre.str.contains('abeille')].reset_index().head()"
   ]
  },
  {
   "cell_type": "markdown",
   "metadata": {},
   "source": [
    "**Observations :**\n",
    "* Pour 80kmh, même morceau de phrases répétés\n",
    "* Pour abeilles, sens et intentions très très similaires mais formulations différentes\n"
   ]
  }
 ],
 "metadata": {
  "kernelspec": {
   "display_name": "Python 3",
   "language": "python",
   "name": "python3"
  },
  "language_info": {
   "codemirror_mode": {
    "name": "ipython",
    "version": 3
   },
   "file_extension": ".py",
   "mimetype": "text/x-python",
   "name": "python",
   "nbconvert_exporter": "python",
   "pygments_lexer": "ipython3",
   "version": "3.7.6"
  }
 },
 "nbformat": 4,
 "nbformat_minor": 4
}
